{
 "cells": [
  {
   "cell_type": "code",
   "execution_count": null,
   "metadata": {},
   "outputs": [],
   "source": [
    "%matplotlib notebook"
   ]
  },
  {
   "cell_type": "heading",
   "metadata": {},
   "level": 2,
   "source": [
    "1. Read your data"
   ]
  },
  {
   "cell_type": "code",
   "execution_count": null,
   "metadata": {
    "collapsed": true
   },
   "outputs": [],
   "source": [
    "# Import libraries\n",
    "# We will be use pandas and numpy\n",
    "# To import library use 'import [name library]\n",
    "# Use keyword 'as' after library name and short aliast\n"
   ]
  },
  {
   "cell_type": "code",
   "execution_count": null,
   "metadata": {},
   "outputs": [],
   "source": [
    "# Get all methods from pd aliast\n",
    "# It's similar to command in teminal\n",
    "# Use 'dir' to show list of methods\n"
   ]
  },
  {
   "cell_type": "code",
   "execution_count": null,
   "metadata": {},
   "outputs": [],
   "source": [
    "# You should read data from file\n",
    "# This method called 'read_csv'\n",
    "# To use method from object use 'name_of_object.method()'\n",
    "# If you want to check description of read_csv use 'help' method\n"
   ]
  },
  {
   "cell_type": "code",
   "execution_count": null,
   "metadata": {},
   "outputs": [],
   "source": [
    "# Assign data csv to variable\n",
    "# Use method read_csv with url object to download and read as DataFrame object\n",
    "# Method read_csv return DataFrame\n",
    "# url = 'https://raw.githubusercontent.com/mwaskom/seaborn-data/master/iris.csv'"
   ]
  },
  {
   "cell_type": "heading",
   "metadata": {},
   "level": 2,
   "source": [
    "2. Check if your data are acceptable"
   ]
  },
  {
   "cell_type": "code",
   "execution_count": null,
   "metadata": {},
   "outputs": [],
   "source": [
    "# Get 10 top data\n",
    "# You want propably check the data in your table\n",
    "# First 10 should give you good look of which data table contains\n",
    "# It's important to check if this is occurs fitting information\n",
    "# Use 'head' on your DataFrame object"
   ]
  },
  {
   "cell_type": "code",
   "execution_count": null,
   "metadata": {},
   "outputs": [],
   "source": [
    "# Get 10 last data\n",
    "# Sometimes good practis is to check the last x elements because/\n",
    "# There could be some garbage\n",
    "# Use 'tail' on you DataFrame object"
   ]
  },
  {
   "cell_type": "code",
   "execution_count": null,
   "metadata": {},
   "outputs": [],
   "source": [
    "# Number of dataset\n",
    "# There are some cases that you need some number of information\n",
    "# Check if this dataset is enough for you purpose\n",
    "# use shape[0] or info() to check information about yout dataset"
   ]
  },
  {
   "cell_type": "code",
   "execution_count": null,
   "metadata": {},
   "outputs": [],
   "source": [
    "# Get number of columns\n",
    "# If you have to many columns in your dataset sometimes it is good pracitse /\n",
    "# to remove unnecesary columns\n",
    "# Use shape[1] to get information of colmuns numbers"
   ]
  },
  {
   "cell_type": "code",
   "execution_count": null,
   "metadata": {},
   "outputs": [],
   "source": [
    "# Get names of all columns\n",
    "# This is continuation of check if all columns in dataset are relevant\n",
    "# use 'columns' property of your dataframe object to get list of column's name"
   ]
  },
  {
   "cell_type": "code",
   "execution_count": null,
   "metadata": {},
   "outputs": [],
   "source": [
    "# Get information about indexes\n",
    "# Imagine that you want to only some part of big data set, from 59 to 69\n",
    "# It's great to check fast if it's this part of data that you want to have\n",
    "# Use 'index property from DataFrame object"
   ]
  },
  {
   "cell_type": "code",
   "execution_count": null,
   "metadata": {},
   "outputs": [],
   "source": [
    "# But what the heck is DataFrame?\n",
    "# To go more familiar with that we create one\n",
    "# create some dictionary dic = {'col1': [1, 2], 'col2': [1, 2], 'col3': [2, 3]}\n",
    "# Now create DataFrame with the dictionary value df = pd.DataFrame(data=dic)\n",
    "# now only check df"
   ]
  },
  {
   "cell_type": "code",
   "execution_count": null,
   "metadata": {},
   "outputs": [],
   "source": [
    "# All values in dictionary was int?\n",
    "# Check it and use df.dtypes"
   ]
  },
  {
   "cell_type": "code",
   "execution_count": null,
   "metadata": {},
   "outputs": [],
   "source": [
    "# As you see DataFrame is simple object with data, index, columns, dtypes"
   ]
  },
  {
   "cell_type": "code",
   "execution_count": null,
   "metadata": {},
   "outputs": [],
   "source": [
    "# There is one more great Data Structure like Series. The main different is that series is normal list/array\n",
    "# You can check it s = pd.Series([1,2,3,4])\n",
    "# And check result s"
   ]
  },
  {
   "cell_type": "heading",
   "metadata": {},
   "level": 2,
   "source": [
    "3. Read data from dataset"
   ]
  },
  {
   "cell_type": "code",
   "execution_count": null,
   "metadata": {},
   "outputs": [],
   "source": [
    "# Get information only from two columns\n",
    "# To get infromation from selected columns use array 'loc' from object DataFrame\n",
    "# First part is related with rows, second with columns\n",
    "# To choose all rows in column A and B use obj.loc[:, [A, B]] \n",
    "# loc mean by label\n",
    "# [:] mean that you want to choose all range"
   ]
  },
  {
   "cell_type": "code",
   "execution_count": null,
   "metadata": {},
   "outputs": [],
   "source": [
    "# Get information between second and third column\n",
    "# You can use obj.iloc[:, 2:3] \n",
    "# In this case i mean index"
   ]
  },
  {
   "cell_type": "code",
   "execution_count": null,
   "metadata": {},
   "outputs": [],
   "source": [
    "# Get first cell from selected column\n",
    "# To get one cell use at[index, \"column_name\"] from DataFrame object"
   ]
  },
  {
   "cell_type": "code",
   "execution_count": null,
   "metadata": {},
   "outputs": [],
   "source": [
    "# Get type of the some column\n",
    "# You can use obj.name_column.dtype\n",
    "# It's usefull to check in short way type"
   ]
  },
  {
   "cell_type": "code",
   "execution_count": null,
   "metadata": {},
   "outputs": [],
   "source": [
    "# Get all elements in selected column with some value\n",
    "# To do this part use obj[obj['name_column'].isin(['name'])]"
   ]
  },
  {
   "cell_type": "code",
   "execution_count": null,
   "metadata": {},
   "outputs": [],
   "source": [
    "# Get all value from column A with value bigger then 3\n",
    "# You can write condition in brackets obj[obj.A > 3]"
   ]
  },
  {
   "cell_type": "code",
   "execution_count": null,
   "metadata": {},
   "outputs": [],
   "source": [
    "# How many data you have in one column?\n",
    "# If probably you have column with name of countries its sometimes happen \\\n",
    "# To check which country with number of use you have, its show dictionary\n",
    "# To do it use obj.column_name.value_count()"
   ]
  },
  {
   "cell_type": "code",
   "execution_count": null,
   "metadata": {},
   "outputs": [],
   "source": [
    "# One hint value_counts() create histogram! Wow that can change everything"
   ]
  },
  {
   "cell_type": "code",
   "execution_count": null,
   "metadata": {},
   "outputs": [],
   "source": [
    "# But if you want to know how many of countries you have add count()\n",
    "# You can do it by grouping data and count the sum use groupby('column').sum()"
   ]
  },
  {
   "cell_type": "code",
   "execution_count": null,
   "metadata": {},
   "outputs": [],
   "source": [
    "# Of course maybe you can sort your data by column to check relation between others\n",
    "# Use 'obj.sort_values(by='column_name')'"
   ]
  },
  {
   "cell_type": "code",
   "execution_count": null,
   "metadata": {},
   "outputs": [],
   "source": [
    "# Or if you want to check your data whith descending index\n",
    "# Use 'sort_index(ascending=False)' or just 'sort()'"
   ]
  },
  {
   "cell_type": "heading",
   "metadata": {},
   "level": 2,
   "source": [
    "3 "
   ]
  },
  {
   "cell_type": "code",
   "execution_count": null,
   "metadata": {},
   "outputs": [],
   "source": [
    "# Get the biggest value from ex. people related with ex country column\n",
    "# In the first step you need to group data by country use group_by('country')\n",
    "# Next you should count sum of it\n",
    "# After that you should sort this main column ascending\n",
    "# for that use sort_value(['column_name'], ascending=False)\n",
    "# And the result will be first element, maybe you remember head method ;)"
   ]
  },
  {
   "cell_type": "code",
   "execution_count": null,
   "metadata": {},
   "outputs": [],
   "source": [
    "# Someone is coming to you and he need to replace value in column 'name'\n",
    "# With the uppercase\n",
    "# It's easy for you because you need method called 'apply' it's from \n",
    "# transformation family group\n",
    "# obj.column_name.apply(lambda val: something)\n",
    "# This lambda is function but in short form\n",
    "# val represented value from apply that is something like for\n",
    "# And will come after all collection\n",
    "# in this case something will be like val.upper()\n",
    "# It's automaticly return value from upper() method and replace this element"
   ]
  },
  {
   "cell_type": "code",
   "execution_count": null,
   "metadata": {},
   "outputs": [],
   "source": [
    "# If in your work some big head say you \n",
    "# \"Give me the avarege from two columns sum related with some three column\"\n",
    "# Maybe that will be column houses and supermarkets\n",
    "# You can create new column obj['new_column_name'] = obj['name'] + obj['name']\n",
    "# Now you can count sum from each country\n",
    "# and when you have value you can count avarege by mean() and read it by \n",
    "# resultat['new_column_name']"
   ]
  },
  {
   "cell_type": "code",
   "execution_count": null,
   "metadata": {},
   "outputs": [],
   "source": [
    "# One second you have new column only check if it's correct calculation\n",
    "# Check first ten elements"
   ]
  },
  {
   "cell_type": "code",
   "execution_count": null,
   "metadata": {},
   "outputs": [],
   "source": [
    "# Check last ten elements"
   ]
  },
  {
   "cell_type": "code",
   "execution_count": null,
   "metadata": {},
   "outputs": [],
   "source": [
    "# And the last good practise is to check type and other statistic information using 'describe()'"
   ]
  },
  {
   "cell_type": "code",
   "execution_count": null,
   "metadata": {},
   "outputs": [],
   "source": [
    "# If you want to get all statistic information use 'describe(include='all')'"
   ]
  },
  {
   "cell_type": "code",
   "execution_count": null,
   "metadata": {},
   "outputs": [],
   "source": [
    "# Your boss tell you that in your table there some unique variables\n",
    "# Maybe there are some name of his cats, more realistic is to find some bullshit data \n",
    "# Use 'nunique()' to count theme"
   ]
  },
  {
   "cell_type": "code",
   "execution_count": null,
   "metadata": {},
   "outputs": [],
   "source": [
    "# Well this information is not enough and you really want to know about this values\n",
    "# You can use obj.name_column.unique() and replace the name of column with all columns\n",
    "# Or now is time to use numpy np.unique(obj[['column_name1', 'column_name2']].values)\n",
    "# You can use one example obj.columns to replace above code ;)"
   ]
  },
  {
   "cell_type": "code",
   "execution_count": null,
   "metadata": {},
   "outputs": [],
   "source": [
    "# Find wrong data\n",
    "# We have unique data, but what in case that data is bad\n",
    "# To check where are wrong data use \n",
    "# pd.isna(obj) True mean wrong data"
   ]
  },
  {
   "cell_type": "code",
   "execution_count": null,
   "metadata": {},
   "outputs": [],
   "source": [
    "# Replace wrong data\n",
    "# Second part how handle wrong data is to replace all data with some number\n",
    "# obj.fillna(value=0)"
   ]
  },
  {
   "cell_type": "code",
   "execution_count": null,
   "metadata": {},
   "outputs": [],
   "source": [
    "# Remove all row when data is wrong\n",
    "# To remove data use dropna(how='any') thats method return only correct rows"
   ]
  },
  {
   "cell_type": "code",
   "execution_count": null,
   "metadata": {},
   "outputs": [],
   "source": [
    "# Count sum of m^2 sepal with round 2"
   ]
  },
  {
   "cell_type": "code",
   "execution_count": null,
   "metadata": {},
   "outputs": [],
   "source": [
    "# Get statistic informations"
   ]
  },
  {
   "cell_type": "code",
   "execution_count": null,
   "metadata": {},
   "outputs": [],
   "source": [
    "# Get information of sepal_length for 10 elements"
   ]
  },
  {
   "cell_type": "code",
   "execution_count": null,
   "metadata": {},
   "outputs": [],
   "source": [
    "# Get all statistic informations"
   ]
  },
  {
   "cell_type": "code",
   "execution_count": null,
   "metadata": {},
   "outputs": [],
   "source": [
    "# Count unique variables"
   ]
  },
  {
   "cell_type": "code",
   "execution_count": null,
   "metadata": {},
   "outputs": [],
   "source": [
    "# Create numpy array from sepal_length"
   ]
  },
  {
   "cell_type": "code",
   "execution_count": null,
   "metadata": {},
   "outputs": [],
   "source": [
    "# Count mean, standard deviation, minimum, maximum"
   ]
  },
  {
   "cell_type": "code",
   "execution_count": null,
   "metadata": {},
   "outputs": [],
   "source": [
    "# Count median, 25th percentile, 75th percentile"
   ]
  },
  {
   "cell_type": "code",
   "execution_count": null,
   "metadata": {},
   "outputs": [],
   "source": [
    "# Generate 15 elements two arraya in numpy"
   ]
  },
  {
   "cell_type": "code",
   "execution_count": null,
   "metadata": {},
   "outputs": [],
   "source": [
    "# Change shape to two rows"
   ]
  },
  {
   "cell_type": "code",
   "execution_count": null,
   "metadata": {},
   "outputs": [],
   "source": [
    "# Stack two arrays vertically"
   ]
  },
  {
   "cell_type": "code",
   "execution_count": null,
   "metadata": {},
   "outputs": [],
   "source": [
    "# Stack two arrays horizontally"
   ]
  },
  {
   "cell_type": "code",
   "execution_count": null,
   "metadata": {},
   "outputs": [],
   "source": [
    "# Get common elements between a and b\n",
    "#a = np.array([1,2,3,2,3,4,3,4,5,6])\n",
    "#b = np.array([7,2,10,2,7,4,9,4,9,8])"
   ]
  },
  {
   "cell_type": "code",
   "execution_count": null,
   "metadata": {},
   "outputs": [],
   "source": [
    "# Read continents dataset from data/continents.csv"
   ]
  },
  {
   "cell_type": "code",
   "execution_count": null,
   "metadata": {},
   "outputs": [],
   "source": [
    "# Check if are null cells"
   ]
  },
  {
   "cell_type": "code",
   "execution_count": null,
   "metadata": {},
   "outputs": [],
   "source": [
    "# Show 10 rows from data"
   ]
  },
  {
   "cell_type": "code",
   "execution_count": null,
   "metadata": {},
   "outputs": [],
   "source": [
    "# Show plot by continent and population"
   ]
  },
  {
   "cell_type": "code",
   "execution_count": null,
   "metadata": {},
   "outputs": [],
   "source": [
    "# 31 Import libraries to create sin and cos plot by matplotlib\n",
    "# and numpy"
   ]
  },
  {
   "cell_type": "code",
   "execution_count": null,
   "metadata": {},
   "outputs": [],
   "source": [
    "# Create scatterplot with gdpPercap and pop from 10 elements. Add labels and title"
   ]
  },
  {
   "cell_type": "code",
   "execution_count": null,
   "metadata": {},
   "outputs": [],
   "source": [
    "# Create bar with year and pop from 10 elements. \n",
    "# Add labels and title"
   ]
  },
  {
   "cell_type": "code",
   "execution_count": null,
   "metadata": {},
   "outputs": [],
   "source": [
    "# Create sin and cos plot with arange 0.0, 6.2, 0.2, subplot 2,1,1 with grid \n",
    "# Sin with o on points and cos with line"
   ]
  },
  {
   "cell_type": "code",
   "execution_count": null,
   "metadata": {},
   "outputs": [],
   "source": [
    "# Read two cars resources car1 and car2"
   ]
  },
  {
   "cell_type": "code",
   "execution_count": null,
   "metadata": {},
   "outputs": [],
   "source": [
    "# Check data car1"
   ]
  },
  {
   "cell_type": "code",
   "execution_count": null,
   "metadata": {},
   "outputs": [],
   "source": [
    "# Fix unnamed data"
   ]
  },
  {
   "cell_type": "code",
   "execution_count": null,
   "metadata": {},
   "outputs": [],
   "source": [
    "# Check data car2"
   ]
  },
  {
   "cell_type": "code",
   "execution_count": null,
   "metadata": {},
   "outputs": [],
   "source": [
    "# Append two dataframes"
   ]
  },
  {
   "cell_type": "code",
   "execution_count": null,
   "metadata": {},
   "outputs": [],
   "source": [
    "# Add new column call nr_owner with 15k to 73k user randint"
   ]
  },
  {
   "cell_type": "code",
   "execution_count": null,
   "metadata": {},
   "outputs": [],
   "source": [
    "# 40 Change wight to float"
   ]
  },
  {
   "cell_type": "code",
   "execution_count": null,
   "metadata": {},
   "outputs": [],
   "source": [
    "# Create Szopa photo and import library"
   ]
  },
  {
   "cell_type": "code",
   "execution_count": null,
   "metadata": {},
   "outputs": [],
   "source": [
    "# Show photo"
   ]
  },
  {
   "cell_type": "code",
   "execution_count": null,
   "metadata": {},
   "outputs": [],
   "source": [
    "# Add gray layer"
   ]
  },
  {
   "cell_type": "code",
   "execution_count": null,
   "metadata": {},
   "outputs": [],
   "source": [
    "# Correct view with gray filter option"
   ]
  },
  {
   "cell_type": "code",
   "execution_count": null,
   "metadata": {},
   "outputs": [],
   "source": [
    "# Resize picture by 100px  "
   ]
  }
 ],
 "metadata": {
  "kernelspec": {
   "display_name": "Python 2",
   "language": "python",
   "name": "python2"
  },
  "language_info": {
   "codemirror_mode": {
    "name": "ipython",
    "version": 2
   },
   "file_extension": ".py",
   "mimetype": "text/x-python",
   "name": "python",
   "nbconvert_exporter": "python",
   "pygments_lexer": "ipython2",
   "version": "2.7.6"
  }
 },
 "nbformat": 4,
 "nbformat_minor": 0
}
