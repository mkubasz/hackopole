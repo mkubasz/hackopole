{
 "cells": [
  {
   "cell_type": "code",
   "execution_count": null,
   "metadata": {
    "collapsed": true
   },
   "outputs": [],
   "source": [
    "# Import libraries\n",
    "import numpy as np\n",
    "import pandas as pd"
   ]
  },
  {
   "cell_type": "code",
   "execution_count": null,
   "metadata": {},
   "outputs": [],
   "source": [
    "# Get all methods from pd\n",
    "dir(pd)"
   ]
  },
  {
   "cell_type": "code",
   "execution_count": null,
   "metadata": {},
   "outputs": [],
   "source": [
    "# Get description of method read_csv\n",
    "help(pd.read_csv)"
   ]
  },
  {
   "cell_type": "code",
   "execution_count": null,
   "metadata": {},
   "outputs": [],
   "source": [
    "# Assign data csv to variable\n",
    "# url = 'https://raw.githubusercontent.com/mwaskom/seaborn-data/master/iris.csv'\n",
    "train = pd.read_csv(url)"
   ]
  },
  {
   "cell_type": "code",
   "execution_count": null,
   "metadata": {},
   "outputs": [],
   "source": [
    "# Get 10 top data use\n",
    "train.head(10)"
   ]
  },
  {
   "cell_type": "code",
   "execution_count": null,
   "metadata": {},
   "outputs": [],
   "source": [
    "# Get 10 last data\n",
    "train.tail(10)"
   ]
  },
  {
   "cell_type": "code",
   "execution_count": null,
   "metadata": {},
   "outputs": [],
   "source": [
    "# Number of dataset\n",
    "train.shape[0]\n",
    "train.info()  # or"
   ]
  },
  {
   "cell_type": "code",
   "execution_count": null,
   "metadata": {},
   "outputs": [],
   "source": [
    "# Get number of columns\n",
    "train.shape[1]"
   ]
  },
  {
   "cell_type": "code",
   "execution_count": null,
   "metadata": {},
   "outputs": [],
   "source": [
    "# Get names of all columns\n",
    "train.columns"
   ]
  },
  {
   "cell_type": "code",
   "execution_count": null,
   "metadata": {},
   "outputs": [],
   "source": [
    "# Info about index\n",
    "train.index"
   ]
  },
  {
   "cell_type": "code",
   "execution_count": null,
   "metadata": {},
   "outputs": [],
   "source": [
    "# Get two columns species and sepal_length\n",
    "train.loc[:, ['species', 'sepal_length']]"
   ]
  },
  {
   "cell_type": "code",
   "execution_count": null,
   "metadata": {},
   "outputs": [],
   "source": [
    "# Get first cell from species\n",
    "train.at[1, 'species']"
   ]
  },
  {
   "cell_type": "code",
   "execution_count": null,
   "metadata": {},
   "outputs": [],
   "source": [
    "# Get all setosa rows by species\n",
    "train[train['species'].isin(['setosa'])]"
   ]
  },
  {
   "cell_type": "code",
   "execution_count": null,
   "metadata": {},
   "outputs": [],
   "source": [
    "# Get the biggest sepal_width related by species\n",
    "res = train.groupby('species')\n",
    "res = res.sum()\n",
    "res = res.sort_values(['sepal_width'], ascending=False)\n",
    "res.head(1)"
   ]
  },
  {
   "cell_type": "code",
   "execution_count": null,
   "metadata": {},
   "outputs": [],
   "source": [
    "# Get type of the sepal_length\n",
    "train.sepal_length.dtype"
   ]
  },
  {
   "cell_type": "code",
   "execution_count": null,
   "metadata": {},
   "outputs": [],
   "source": [
    "# Return new species with uppercase (apply)\n",
    "train.species.apply(lambda x: x.upper()).head(10)"
   ]
  },
  {
   "cell_type": "code",
   "execution_count": null,
   "metadata": {},
   "outputs": [],
   "source": [
    "# Count sum of m^2 sepal with round 2\n",
    "np.round((train['sepal_length']*train['sepal_width']).sum(), 2)"
   ]
  },
  {
   "cell_type": "code",
   "execution_count": null,
   "metadata": {},
   "outputs": [],
   "source": [
    "# How many species you have\n",
    "train.species.value_counts().count()"
   ]
  },
  {
   "cell_type": "code",
   "execution_count": null,
   "metadata": {},
   "outputs": [],
   "source": [
    "# Count avarege of sum m^2 sepal and create new column avg ordered \n",
    "train['avg'] = train['sepal_length']*train['sepal_width']\n",
    "ordered_grouped = train.groupby(by=['species']).sum()\n",
    "ordered_grouped.mean()['avg']"
   ]
  },
  {
   "cell_type": "code",
   "execution_count": null,
   "metadata": {},
   "outputs": [],
   "source": [
    "# Print column avg\n",
    "train['avg'].head(10)"
   ]
  },
  {
   "cell_type": "code",
   "execution_count": null,
   "metadata": {},
   "outputs": [],
   "source": [
    "# Get statistic informations\n",
    "train.describe()"
   ]
  },
  {
   "cell_type": "code",
   "execution_count": null,
   "metadata": {},
   "outputs": [],
   "source": [
    "# Get information of sepal_length for 10 elements\n",
    "train['sepal_length'].head(10).describe()"
   ]
  },
  {
   "cell_type": "code",
   "execution_count": null,
   "metadata": {},
   "outputs": [],
   "source": [
    "# Get all statistic informations\n",
    "train.describe(include='all')"
   ]
  },
  {
   "cell_type": "code",
   "execution_count": null,
   "metadata": {},
   "outputs": [],
   "source": [
    "# Count unique variables\n",
    "train.nunique()"
   ]
  },
  {
   "cell_type": "code",
   "execution_count": null,
   "metadata": {},
   "outputs": [],
   "source": [
    "# Create numpy array from sepal_length\n",
    "arr = np.array(train.sepal_length)\n",
    "arr"
   ]
  },
  {
   "cell_type": "code",
   "execution_count": null,
   "metadata": {},
   "outputs": [],
   "source": [
    "# Count mean, standard deviation, minimum, maximum\n",
    "str(arr.mean()) + \" \" + str(arr.std()) + \" \" + str(arr.min()) + \" \" + str(arr.max())"
   ]
  },
  {
   "cell_type": "code",
   "execution_count": null,
   "metadata": {},
   "outputs": [],
   "source": [
    "# Count median, 25th percentile, 75th percentile\n",
    "str(np.percentile(arr, 25)) + \" \" + str(np.median(arr)) + \" \" + str(np.percentile(arr, 75))"
   ]
  },
  {
   "cell_type": "code",
   "execution_count": null,
   "metadata": {},
   "outputs": [],
   "source": [
    "# Generate 15 elements two arraya in numpy\n",
    "my_arr1 = np.arange(15)\n",
    "my_arr2 = np.repeat(1, 10)"
   ]
  },
  {
   "cell_type": "code",
   "execution_count": null,
   "metadata": {},
   "outputs": [],
   "source": [
    "# Change shape to two rows\n",
    "new_arr1 = my_arr1.reshape(2, -1)\n",
    "new_arr2 = my_arr2.reshape(2, -1)"
   ]
  },
  {
   "cell_type": "code",
   "execution_count": null,
   "metadata": {},
   "outputs": [],
   "source": [
    "# Stack two arrays vertically\n",
    "np.concatenate([new_arr1, new_arr2], axis=0)\n",
    "np.vstack([new_arr1, new_arr2])  # or\n",
    "np.r_[new_arr1, new_arr2]  # or"
   ]
  },
  {
   "cell_type": "code",
   "execution_count": null,
   "metadata": {},
   "outputs": [],
   "source": [
    "# Stack two arrays horizontally\n",
    "np.concatenate([new_arr1, new_arr2], axis=1)\n",
    "np.hstack([new_arr1, new_arr2])  # or\n",
    "np.c_[new_arr1, new_arr2]  # or"
   ]
  },
  {
   "cell_type": "code",
   "execution_count": null,
   "metadata": {},
   "outputs": [],
   "source": [
    "# Get common elements between a and b\n",
    "#a = np.array([1,2,3,2,3,4,3,4,5,6])\n",
    "#b = np.array([7,2,10,2,7,4,9,4,9,8])\n",
    "np.intersect1d(a, b)"
   ]
  },
  {
   "cell_type": "code",
   "execution_count": null,
   "metadata": {},
   "outputs": [],
   "source": [
    "# Read continents dataset from data/continents.csv\n",
    "continents = pd.read_csv('data/continents.csv', sep='\\t')"
   ]
  },
  {
   "cell_type": "code",
   "execution_count": null,
   "metadata": {},
   "outputs": [],
   "source": [
    "# Check if are null cells\n",
    "continents.apply(lambda x: sum(x.isnull()),axis=0) "
   ]
  },
  {
   "cell_type": "code",
   "execution_count": null,
   "metadata": {},
   "outputs": [],
   "source": [
    "# Show 10 rows from data\n",
    "continents.head(10)"
   ]
  },
  {
   "cell_type": "code",
   "execution_count": null,
   "metadata": {},
   "outputs": [],
   "source": [
    "# Show plot by continent and population\n",
    "continents.groupby('continent')['pop'].plot()"
   ]
  },
  {
   "cell_type": "code",
   "execution_count": null,
   "metadata": {},
   "outputs": [],
   "source": [
    "# 31 Import libraries to create sin and cos plot by matplotlib\n",
    "# and numpy\n",
    "import matplotlib.pyplot as plt\n",
    "from numpy import arange, sin, cos"
   ]
  },
  {
   "cell_type": "code",
   "execution_count": null,
   "metadata": {},
   "outputs": [],
   "source": [
    "# Create scatterplot with gdpPercap and pop from 10 elements. Add labels and title\n",
    "continents.head(10).plot.scatter(x='gdpPercap', y='pop', s=100, c='green')\n",
    "plt.xlabel('GDP')\n",
    "plt.ylabel('Population')\n",
    "plt.title('Pupulation for GDP')\n",
    "plt.show()"
   ]
  },
  {
   "cell_type": "code",
   "execution_count": null,
   "metadata": {},
   "outputs": [],
   "source": [
    "# Create bar with year and pop from 10 elements. \n",
    "# Add labels and title\n",
    "continents.head(10).plot.bar(x='year', y='pop')\n",
    "plt.xlabel('Year')\n",
    "plt.ylabel('Population')\n",
    "plt.title('Pupulation by Years')\n",
    "plt.show()"
   ]
  },
  {
   "cell_type": "code",
   "execution_count": null,
   "metadata": {},
   "outputs": [],
   "source": [
    "# Create sin and cos plot with arange 0.0, 6.2, 0.2, subplot 2,1,1 with grid \n",
    "# Sin with o on points and cos with line\n",
    "x = arange(0.0, 6.2, 0.2)\n",
    "plt.subplot(2, 1, 1)\n",
    "plt.plot(x, sin(x), 'o-')\n",
    "plt.xlabel('x')\n",
    "plt.ylabel('sin(x)')\n",
    "plt.grid(True)\n",
    "plt.subplot(2, 1, 2)\n",
    "plt.plot(x, cos(x), '-')\n",
    "plt.xlabel('x')\n",
    "plt.ylabel('cos(x)')\n",
    "plt.grid(True)\n",
    "plt.show()"
   ]
  },
  {
   "cell_type": "code",
   "execution_count": null,
   "metadata": {},
   "outputs": [],
   "source": [
    "# Read two cars resources car1 and car2\n",
    "car1 = pd.read_csv('data/car1.csv')\n",
    "car2 = pd.read_csv('data/car2.csv')"
   ]
  },
  {
   "cell_type": "code",
   "execution_count": null,
   "metadata": {},
   "outputs": [],
   "source": [
    "# Check data car1\n",
    "car1.head()"
   ]
  },
  {
   "cell_type": "code",
   "execution_count": null,
   "metadata": {},
   "outputs": [],
   "source": [
    "# Fix unnamed data\n",
    "car1 = car1.loc[:, \"mpg\":\"car\"]\n",
    "car1.head()"
   ]
  },
  {
   "cell_type": "code",
   "execution_count": null,
   "metadata": {},
   "outputs": [],
   "source": [
    "# Check data car2\n",
    "car2.head()"
   ]
  },
  {
   "cell_type": "code",
   "execution_count": null,
   "metadata": {},
   "outputs": [],
   "source": [
    "# Append two dataframes\n",
    "cars = car1.append(car2)\n",
    "cars"
   ]
  },
  {
   "cell_type": "code",
   "execution_count": null,
   "metadata": {},
   "outputs": [],
   "source": [
    "# Add new column call nr_owner with 15k to 73k user randint\n",
    "owners = np.random.randint(15000, high=73001, size=398, dtype='l')\n",
    "cars['owners'] = owners\n",
    "cars.tail()"
   ]
  },
  {
   "cell_type": "code",
   "execution_count": null,
   "metadata": {},
   "outputs": [],
   "source": [
    "# 40 Change wight to float\n",
    "cars['weight'] = cars['weight'].apply(lambda x: float(x))\n",
    "cars"
   ]
  },
  {
   "cell_type": "code",
   "execution_count": null,
   "metadata": {},
   "outputs": [],
   "source": [
    "# Create szopa photo and import library\n",
    "from scipy import misc\n",
    "face = misc.face()"
   ]
  },
  {
   "cell_type": "code",
   "execution_count": null,
   "metadata": {},
   "outputs": [],
   "source": [
    "# Show photo\n",
    "import pylab as plt\n",
    "plt.imshow(face)"
   ]
  },
  {
   "cell_type": "code",
   "execution_count": null,
   "metadata": {},
   "outputs": [],
   "source": [
    "# Add gray layer\n",
    "face = misc.face(gray=True)\n",
    "plt.imshow(face)"
   ]
  },
  {
   "cell_type": "code",
   "execution_count": null,
   "metadata": {},
   "outputs": [],
   "source": [
    "# Correct view with gray filter option\n",
    "plt.imshow(face, cmap=plt.cm.gray)    "
   ]
  },
  {
   "cell_type": "code",
   "execution_count": null,
   "metadata": {},
   "outputs": [],
   "source": [
    "# Resize picture by 100px\n",
    "crop_face = face[100:-100, 100:-100]\n",
    "plt.imshow(face, cmap=plt.cm.gray)    "
   ]
  }
 ],
 "metadata": {
  "kernelspec": {
   "display_name": "Python 2",
   "language": "python",
   "name": "python2"
  },
  "language_info": {
   "codemirror_mode": {
    "name": "ipython",
    "version": 2
   },
   "file_extension": ".py",
   "mimetype": "text/x-python",
   "name": "python",
   "nbconvert_exporter": "python",
   "pygments_lexer": "ipython2",
   "version": "2.7.6"
  }
 },
 "nbformat": 4,
 "nbformat_minor": 0
}
